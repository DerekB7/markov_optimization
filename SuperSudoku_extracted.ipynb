{
 "cells": [
  {
   "cell_type": "code",
   "execution_count": 1,
   "metadata": {
    "collapsed": true
   },
   "outputs": [],
   "source": [
    "# done in Julia 0.5.0"
   ]
  },
  {
   "cell_type": "code",
   "execution_count": 2,
   "metadata": {
    "collapsed": false
   },
   "outputs": [
    {
     "data": {
      "text/plain": [
       "Dict{Int64,Any} with 16 entries:\n",
       "  2  => 2\n",
       "  16 => 0\n",
       "  11 => 'B'\n",
       "  7  => 7\n",
       "  9  => 9\n",
       "  10 => 'A'\n",
       "  8  => 8\n",
       "  6  => 6\n",
       "  4  => 4\n",
       "  3  => 3\n",
       "  5  => 5\n",
       "  13 => 'D'\n",
       "  14 => 'E'\n",
       "  15 => 'F'\n",
       "  12 => 'C'\n",
       "  1  => 1"
      ]
     },
     "execution_count": 2,
     "metadata": {},
     "output_type": "execute_result"
    }
   ],
   "source": [
    "output_dict = Dict(16=>(0), 1=>(1), 2=> (2), 3=>(3), 4=> (4), 5=> (5), 6 =>(6),\n",
    "7=>(7), 8 =>(8), 9=>(9), 10 =>('A'), 11=>('B'), 12=>('C'), 13 =>('D'), 14 => ('E'), 15=> ('F'))\n",
    "\n",
    "# This is used so that the final answer is easy for people to read.  \n",
    "# Note that the actual numbering in Super Suduko is in Hex\n",
    "# However a Sudoku puzzle has numerous empty cells in it and by convention an empty / sparse cell in a matrix is a zero\n",
    "# Hence for coding purposes, we solve the puzzle using numbers {1, 2, 3, ..., 15, 16} \n",
    "# and then use the above mapping to convert the final answer back into the official numbering\n"
   ]
  },
  {
   "cell_type": "code",
   "execution_count": 3,
   "metadata": {
    "collapsed": false
   },
   "outputs": [
    {
     "data": {
      "text/plain": [
       "improper_diagonal_sum (generic function with 2 methods)"
      ]
     },
     "execution_count": 3,
     "metadata": {},
     "output_type": "execute_result"
    }
   ],
   "source": [
    "function diagonal_sum(x_tensor, k, i_max=16 )\n",
    "    \"\"\"\n",
    "    Some Super Sudoku puzzles have an additional constraint along the diagonal of the matrix \n",
    "    (and on the 'fake diagonal' that goes from bottom left to top right of the matrix)\n",
    "    \n",
    "    This is the helper function for the constraint along the diagonal\n",
    "    \"\"\"\n",
    "    running_sum = 0\n",
    "    for i = 1:i_max\n",
    "        running_sum += x_tensor[i,i,k]\n",
    "    end\n",
    "    return running_sum\n",
    "end\n",
    "\n",
    "\n",
    "function improper_diagonal_sum(x_tensor, k, i_max=16 )\n",
    "    \"\"\"\n",
    "    This is the helper function for the constraint along the fake diagonal\n",
    "    \n",
    "    Recall that the constraint along the diagonal is optional, so this may or may not be in use\n",
    "    \"\"\"\n",
    "    running_sum = 0\n",
    "    for i = 1:i_max\n",
    "        running_sum += x_tensor[i_max + 1 - i,i,k]\n",
    "    end\n",
    "    return running_sum\n",
    "end\n"
   ]
  },
  {
   "cell_type": "code",
   "execution_count": 4,
   "metadata": {
    "collapsed": false
   },
   "outputs": [
    {
     "data": {
      "text/html": [
       "<table class=\"data-frame\"><thead><tr><th></th><th>x1</th><th>x2</th><th>x3</th><th>x4</th><th>x5</th><th>x6</th><th>x7</th><th>x8</th><th>x9</th><th>x10</th><th>x11</th><th>x12</th><th>x13</th><th>x14</th><th>x15</th><th>x16</th></tr></thead><tbody><tr><th>1</th><td>A</td><td>B</td><td>5</td><td>C</td><td>0</td><td>6</td><td>2</td><td>E</td><td>1</td><td>8</td><td>9</td><td>F</td><td>4</td><td>7</td><td>3</td><td>D</td></tr><tr><th>2</th><td>E</td><td>F</td><td>D</td><td>2</td><td>3</td><td>B</td><td>5</td><td>C</td><td>A</td><td>0</td><td>4</td><td>7</td><td>9</td><td>1</td><td>6</td><td>8</td></tr><tr><th>3</th><td>6</td><td>1</td><td>4</td><td>8</td><td>F</td><td>A</td><td>9</td><td>7</td><td>C</td><td>D</td><td>B</td><td>3</td><td>E</td><td>0</td><td>2</td><td>5</td></tr><tr><th>4</th><td>7</td><td>3</td><td>9</td><td>0</td><td>8</td><td>D</td><td>4</td><td>1</td><td>5</td><td>E</td><td>6</td><td>2</td><td>B</td><td>A</td><td>C</td><td>F</td></tr><tr><th>5</th><td>3</td><td>5</td><td>0</td><td>E</td><td>2</td><td>8</td><td>A</td><td>B</td><td>9</td><td>C</td><td>F</td><td>6</td><td>1</td><td>4</td><td>D</td><td>7</td></tr><tr><th>6</th><td>D</td><td>2</td><td>8</td><td>6</td><td>7</td><td>1</td><td>F</td><td>9</td><td>4</td><td>A</td><td>3</td><td>5</td><td>0</td><td>C</td><td>E</td><td>B</td></tr><tr><th>7</th><td>9</td><td>7</td><td>1</td><td>F</td><td>4</td><td>C</td><td>E</td><td>6</td><td>0</td><td>B</td><td>2</td><td>D</td><td>3</td><td>5</td><td>8</td><td>A</td></tr><tr><th>8</th><td>C</td><td>A</td><td>B</td><td>4</td><td>5</td><td>0</td><td>D</td><td>3</td><td>E</td><td>7</td><td>1</td><td>8</td><td>F</td><td>6</td><td>9</td><td>2</td></tr><tr><th>9</th><td>4</td><td>8</td><td>F</td><td>B</td><td>C</td><td>2</td><td>6</td><td>A</td><td>3</td><td>9</td><td>5</td><td>1</td><td>D</td><td>E</td><td>7</td><td>0</td></tr><tr><th>10</th><td>5</td><td>0</td><td>6</td><td>D</td><td>E</td><td>F</td><td>B</td><td>4</td><td>7</td><td>2</td><td>8</td><td>A</td><td>C</td><td>3</td><td>1</td><td>9</td></tr><tr><th>11</th><td>1</td><td>E</td><td>A</td><td>3</td><td>D</td><td>9</td><td>7</td><td>8</td><td>F</td><td>4</td><td>0</td><td>C</td><td>5</td><td>2</td><td>B</td><td>6</td></tr><tr><th>12</th><td>2</td><td>C</td><td>7</td><td>9</td><td>1</td><td>5</td><td>3</td><td>0</td><td>B</td><td>6</td><td>D</td><td>E</td><td>A</td><td>8</td><td>F</td><td>4</td></tr><tr><th>13</th><td>8</td><td>D</td><td>C</td><td>7</td><td>B</td><td>3</td><td>1</td><td>F</td><td>6</td><td>5</td><td>A</td><td>4</td><td>2</td><td>9</td><td>0</td><td>E</td></tr><tr><th>14</th><td>0</td><td>6</td><td>2</td><td>A</td><td>9</td><td>4</td><td>C</td><td>D</td><td>8</td><td>1</td><td>E</td><td>B</td><td>7</td><td>F</td><td>5</td><td>3</td></tr><tr><th>15</th><td>B</td><td>9</td><td>3</td><td>1</td><td>A</td><td>E</td><td>8</td><td>5</td><td>2</td><td>F</td><td>7</td><td>0</td><td>6</td><td>D</td><td>4</td><td>C</td></tr><tr><th>16</th><td>F</td><td>4</td><td>E</td><td>5</td><td>6</td><td>7</td><td>0</td><td>2</td><td>D</td><td>3</td><td>C</td><td>9</td><td>8</td><td>B</td><td>A</td><td>1</td></tr></tbody></table>"
      ],
      "text/plain": [
       "16×16 DataFrames.DataFrame\n",
       "│ Row │ x1  │ x2  │ x3  │ x4  │ x5  │ x6  │ x7  │ x8  │ x9  │ x10 │ x11 │ x12 │\n",
       "├─────┼─────┼─────┼─────┼─────┼─────┼─────┼─────┼─────┼─────┼─────┼─────┼─────┤\n",
       "│ 1   │ 'A' │ 'B' │ 5   │ 'C' │ 0   │ 6   │ 2   │ 'E' │ 1   │ 8   │ 9   │ 'F' │\n",
       "│ 2   │ 'E' │ 'F' │ 'D' │ 2   │ 3   │ 'B' │ 5   │ 'C' │ 'A' │ 0   │ 4   │ 7   │\n",
       "│ 3   │ 6   │ 1   │ 4   │ 8   │ 'F' │ 'A' │ 9   │ 7   │ 'C' │ 'D' │ 'B' │ 3   │\n",
       "│ 4   │ 7   │ 3   │ 9   │ 0   │ 8   │ 'D' │ 4   │ 1   │ 5   │ 'E' │ 6   │ 2   │\n",
       "│ 5   │ 3   │ 5   │ 0   │ 'E' │ 2   │ 8   │ 'A' │ 'B' │ 9   │ 'C' │ 'F' │ 6   │\n",
       "│ 6   │ 'D' │ 2   │ 8   │ 6   │ 7   │ 1   │ 'F' │ 9   │ 4   │ 'A' │ 3   │ 5   │\n",
       "│ 7   │ 9   │ 7   │ 1   │ 'F' │ 4   │ 'C' │ 'E' │ 6   │ 0   │ 'B' │ 2   │ 'D' │\n",
       "│ 8   │ 'C' │ 'A' │ 'B' │ 4   │ 5   │ 0   │ 'D' │ 3   │ 'E' │ 7   │ 1   │ 8   │\n",
       "│ 9   │ 4   │ 8   │ 'F' │ 'B' │ 'C' │ 2   │ 6   │ 'A' │ 3   │ 9   │ 5   │ 1   │\n",
       "│ 10  │ 5   │ 0   │ 6   │ 'D' │ 'E' │ 'F' │ 'B' │ 4   │ 7   │ 2   │ 8   │ 'A' │\n",
       "│ 11  │ 1   │ 'E' │ 'A' │ 3   │ 'D' │ 9   │ 7   │ 8   │ 'F' │ 4   │ 0   │ 'C' │\n",
       "│ 12  │ 2   │ 'C' │ 7   │ 9   │ 1   │ 5   │ 3   │ 0   │ 'B' │ 6   │ 'D' │ 'E' │\n",
       "│ 13  │ 8   │ 'D' │ 'C' │ 7   │ 'B' │ 3   │ 1   │ 'F' │ 6   │ 5   │ 'A' │ 4   │\n",
       "│ 14  │ 0   │ 6   │ 2   │ 'A' │ 9   │ 4   │ 'C' │ 'D' │ 8   │ 1   │ 'E' │ 'B' │\n",
       "│ 15  │ 'B' │ 9   │ 3   │ 1   │ 'A' │ 'E' │ 8   │ 5   │ 2   │ 'F' │ 7   │ 0   │\n",
       "│ 16  │ 'F' │ 4   │ 'E' │ 5   │ 6   │ 7   │ 0   │ 2   │ 'D' │ 3   │ 'C' │ 9   │\n",
       "\n",
       "│ Row │ x13 │ x14 │ x15 │ x16 │\n",
       "├─────┼─────┼─────┼─────┼─────┤\n",
       "│ 1   │ 4   │ 7   │ 3   │ 'D' │\n",
       "│ 2   │ 9   │ 1   │ 6   │ 8   │\n",
       "│ 3   │ 'E' │ 0   │ 2   │ 5   │\n",
       "│ 4   │ 'B' │ 'A' │ 'C' │ 'F' │\n",
       "│ 5   │ 1   │ 4   │ 'D' │ 7   │\n",
       "│ 6   │ 0   │ 'C' │ 'E' │ 'B' │\n",
       "│ 7   │ 3   │ 5   │ 8   │ 'A' │\n",
       "│ 8   │ 'F' │ 6   │ 9   │ 2   │\n",
       "│ 9   │ 'D' │ 'E' │ 7   │ 0   │\n",
       "│ 10  │ 'C' │ 3   │ 1   │ 9   │\n",
       "│ 11  │ 5   │ 2   │ 'B' │ 6   │\n",
       "│ 12  │ 'A' │ 8   │ 'F' │ 4   │\n",
       "│ 13  │ 2   │ 9   │ 0   │ 'E' │\n",
       "│ 14  │ 7   │ 'F' │ 5   │ 3   │\n",
       "│ 15  │ 6   │ 'D' │ 4   │ 'C' │\n",
       "│ 16  │ 8   │ 'B' │ 'A' │ 1   │"
      ]
     },
     "execution_count": 4,
     "metadata": {},
     "output_type": "execute_result"
    }
   ],
   "source": [
    "###################################################\n",
    "USE_DIAGONAL_CONSTRAINT = false\n",
    "# some Super Sudoku puzzles have the Diagonal Constraint active, while others do not\n",
    "# set the above to = true, if you want it enabled\n",
    "\n",
    "using JuMP\n",
    "using Cbc\n",
    "\n",
    "mymodel = Model(solver= CbcSolver())\n",
    "\n",
    "A = readcsv(\"supporting_files/super_sudoku_sunday_oct2_.csv\")\n",
    "\n",
    "flatA = vec(A)\n",
    "\n",
    "mini_size = 4\n",
    "m = 16\n",
    "n = 16 \n",
    "k_max = 16\n",
    "k_vec = collect(1:n)\n",
    "\n",
    "assert(m==n)\n",
    "assert(mini_size*mini_size - m == 0)\n",
    "assert(size(A)[1] == m)\n",
    "assert(size(A)[2] == n)\n",
    "\n",
    "@variable(mymodel, 0<=y[i = 1:m*n]<=m)  \n",
    "\n",
    "@variable(mymodel, x[i = 1:m*n*k_max], Bin) \n",
    "# @variable(mymodel, 0<= x[i = 1:m*n*k_max] <=1)\n",
    "# note that the actual domain for the indicator variables in x are {0,1} i.e. binary\n",
    "# however because the official problems typically have one and only one feasible solution we can frequently \n",
    "# get the exact solution by using [0,1] as the domain and solving this as an LP\n",
    "\n",
    "y_box = reshape(y, (m, n)) * 1\n",
    "x_tensor = reshape(x, (m, n, k_max))\n",
    "# collect y values in a 16 x 16 matrix, and collect x values in 16 x 16 x 16 cube-like tensor\n",
    "# the x values are really just indicator variable expansions for each of the 16 options associated with each cell in y\n",
    "\n",
    "@constraint(mymodel, sum(x) == m*n) # i.e. one indicator per row per column \n",
    "\n",
    "for i = 1:n\n",
    "    for j = 1:n\n",
    "        @constraint(mymodel, y_box[i,j]  - dot(k_vec, vec(x_tensor[i,j,:])) == 0)\n",
    "        # this constraint enforces our indicactor variables and the associated values showing up in y_box\n",
    "        \n",
    "        @constraint(mymodel, sum(x_tensor[i,j, :]) == 1)\n",
    "        # note this is the core constraint that is \"repeated\" in multiple forms\n",
    "        \n",
    "        k_val = Int(round(A[i,j])) # this should clean up the floating point comparison issues associated with the below \n",
    "        if k_val > 0\n",
    "            @constraint(mymodel, x_tensor[i,j, k_val] == 1)  \n",
    "            ## This enforces agreement with pre-supplied / filled in cells, and our variables, where applicable\n",
    "        end        \n",
    "    end    \n",
    "end\n",
    "\n",
    "\n",
    "for i = 1:n\n",
    "    for k = 1:k_max\n",
    "        @constraint(mymodel, sum(x_tensor[i,:, k]) == 1)\n",
    "        # note that this is the 'core constraint' that is repeated after we rotate the cube\n",
    "    end\n",
    "end\n",
    "\n",
    "\n",
    "for j = 1:n\n",
    "    for k = 1:k_max\n",
    "        @constraint(mymodel, sum(x_tensor[:,j, k]) == 1)\n",
    "        # note that this is the 'core constraint' that is repeated after we rotate the cube once more\n",
    "    end\n",
    "end\n",
    "\n",
    "#####\n",
    "# this last one is the trickiest...\n",
    "# it is in place so that each submatrix / block has all possible numbers\n",
    "# it is a touch awkward to do in 1-based indexing systems like Julia\n",
    "for i = 0:(mini_size - 1)\n",
    "    for j = 0:(mini_size - 1)\n",
    "        for k = 1:k_max\n",
    "            @constraint(mymodel, sum(x_tensor[mini_size*i + 1: mini_size*i + mini_size, mini_size*j + 1:mini_size*j + mini_size, k]) == 1)\n",
    "        end\n",
    "    end\n",
    "end\n",
    "#####\n",
    "\n",
    "if USE_DIAGONAL_CONSTRAINT\n",
    "    for k = 1:k_max\n",
    "        @constraint(mymodel, diagonal_sum(x_tensor, k, m) == 1) \n",
    "        # standard diagonal from top left to bottom right of matrix\n",
    "        @constraint(mymodel, improper_diagonal_sum(x_tensor, k, m) == 1)\n",
    "        # improper diagonal from bottom left to top right of matrix        \n",
    "    end\n",
    "end\n",
    "\n",
    "payoff_z = 0\n",
    "# note that Sudoku is really a feasibility problem, so the payoff function can be whatever dummy function we like\n",
    "\n",
    "@objective(mymodel, Min, payoff_z)\n",
    "###########\n",
    "\n",
    "# solve for the solution\n",
    "solve(mymodel)\n",
    "\n",
    "output = getvalue(y_box)\n",
    "\n",
    "# the below is just some cleanup, to get the solution in an easy to use form\n",
    "answer_matrix = round(Int64, output)\n",
    "\n",
    "thing = convert(Array{Any,2}, answer_matrix)\n",
    "\n",
    "m_rows, n_cols = size(thing)\n",
    "for i = 1:m_rows\n",
    "    for j = 1:n_cols\n",
    "        newvalue_or_string = output_dict[thing[i,j]]\n",
    "        thing[i,j] = newvalue_or_string\n",
    "    end\n",
    "end\n",
    "\n",
    "using DataFrames\n",
    "df = DataFrame(thing)\n",
    "df\n",
    "\n",
    "# writetable(\"Oct2output.dat\", df, separator = ',', header = false)\n",
    "\n",
    "# comment the above line out if you do not want to write it to a spreadsheet\n",
    "# The data is not centered in the spreadsheet, but otherwise it looks ok to me\n",
    "# just right click \"output.data\" and open in libre office calc and center the data"
   ]
  },
  {
   "cell_type": "code",
   "execution_count": null,
   "metadata": {
    "collapsed": true
   },
   "outputs": [],
   "source": []
  }
 ],
 "metadata": {
  "kernelspec": {
   "display_name": "Julia 0.5.0",
   "language": "julia",
   "name": "julia-0.5"
  },
  "language_info": {
   "file_extension": ".jl",
   "mimetype": "application/julia",
   "name": "julia",
   "version": "0.5.0"
  }
 },
 "nbformat": 4,
 "nbformat_minor": 0
}
